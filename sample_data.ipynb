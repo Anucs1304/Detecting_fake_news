{
  "cells": [
    {
      "cell_type": "code",
      "execution_count": 41,
      "metadata": {
        "id": "oU2OTuFFM9g9"
      },
      "outputs": [],
      "source": [
        "import pandas as pd\n",
        "import numpy as np\n",
        "import matplotlib.pyplot as plt\n",
        "import seaborn as sns\n",
        "from sklearn.feature_extraction.text import TfidfVectorizer, CountVectorizer\n",
        "from sklearn.model_selection import train_test_split\n",
        "from sklearn.linear_model import LogisticRegression\n",
        "from sklearn.ensemble import RandomForestClassifier\n",
        "from sklearn.cluster import KMeans\n",
        "from sklearn.metrics import classification_report, confusion_matrix\n",
        "import warnings\n",
        "warnings.filterwarnings('ignore')"
      ]
    },
    {
      "cell_type": "code",
      "execution_count": 19,
      "metadata": {
        "colab": {
          "base_uri": "https://localhost:8080/"
        },
        "id": "efQi4pVlQE8j",
        "outputId": "4702d877-c8fa-460f-e0bb-9d936a772146"
      },
      "outputs": [
        {
          "ename": "NameError",
          "evalue": "name 'pd' is not defined",
          "output_type": "error",
          "traceback": [
            "\u001b[1;31m---------------------------------------------------------------------------\u001b[0m",
            "\u001b[1;31mNameError\u001b[0m                                 Traceback (most recent call last)",
            "Cell \u001b[1;32mIn[19], line 8\u001b[0m\n\u001b[0;32m      5\u001b[0m fake_file_path \u001b[38;5;241m=\u001b[39m \u001b[38;5;124m\"\u001b[39m\u001b[38;5;124m/content/Fake.csv\u001b[39m\u001b[38;5;124m\"\u001b[39m\n\u001b[0;32m      7\u001b[0m \u001b[38;5;66;03m# Read the datasets\u001b[39;00m\n\u001b[1;32m----> 8\u001b[0m true_df \u001b[38;5;241m=\u001b[39m \u001b[43mpd\u001b[49m\u001b[38;5;241m.\u001b[39mread_csv(true_file_path)\n\u001b[0;32m      9\u001b[0m fake_df \u001b[38;5;241m=\u001b[39m pd\u001b[38;5;241m.\u001b[39mread_csv(fake_file_path)\n\u001b[0;32m     11\u001b[0m \u001b[38;5;66;03m# Inspect the True News dataset\u001b[39;00m\n",
            "\u001b[1;31mNameError\u001b[0m: name 'pd' is not defined"
          ]
        }
      ],
      "source": [
        "import os\n",
        "\n",
        "# Define the file paths\n",
        "true_file_path = \"/content/True.csv\"\n",
        "fake_file_path = \"/content/Fake.csv\"\n",
        "\n",
        "# Read the datasets\n",
        "true_df = pd.read_csv(true_file_path)\n",
        "fake_df = pd.read_csv(fake_file_path)\n",
        "\n",
        "# Inspect the True News dataset\n",
        "print(\"True News Dataset:\")\n",
        "print(true_df.head())\n",
        "print(true_df.info())\n"
      ]
    },
    {
      "cell_type": "code",
      "execution_count": 18,
      "metadata": {
        "colab": {
          "base_uri": "https://localhost:8080/"
        },
        "id": "G8C-4R_rQPLz",
        "outputId": "4959b87b-e4ad-4c9f-b3ab-6a249b181806"
      },
      "outputs": [
        {
          "name": "stdout",
          "output_type": "stream",
          "text": [
            "\n",
            "Fake News Dataset:\n"
          ]
        },
        {
          "ename": "NameError",
          "evalue": "name 'fake_df' is not defined",
          "output_type": "error",
          "traceback": [
            "\u001b[1;31m---------------------------------------------------------------------------\u001b[0m",
            "\u001b[1;31mNameError\u001b[0m                                 Traceback (most recent call last)",
            "Cell \u001b[1;32mIn[18], line 3\u001b[0m\n\u001b[0;32m      1\u001b[0m \u001b[38;5;66;03m# Inspect the Fake News dataset\u001b[39;00m\n\u001b[0;32m      2\u001b[0m \u001b[38;5;28mprint\u001b[39m(\u001b[38;5;124m\"\u001b[39m\u001b[38;5;130;01m\\n\u001b[39;00m\u001b[38;5;124mFake News Dataset:\u001b[39m\u001b[38;5;124m\"\u001b[39m)\n\u001b[1;32m----> 3\u001b[0m \u001b[38;5;28mprint\u001b[39m(\u001b[43mfake_df\u001b[49m\u001b[38;5;241m.\u001b[39mhead())\n\u001b[0;32m      4\u001b[0m \u001b[38;5;28mprint\u001b[39m(fake_df\u001b[38;5;241m.\u001b[39minfo())\n",
            "\u001b[1;31mNameError\u001b[0m: name 'fake_df' is not defined"
          ]
        }
      ],
      "source": [
        "# Inspect the Fake News dataset\n",
        "print(\"\\nFake News Dataset:\")\n",
        "print(fake_df.head())\n",
        "print(fake_df.info())"
      ]
    },
    {
      "cell_type": "code",
      "execution_count": 17,
      "metadata": {
        "colab": {
          "base_uri": "https://localhost:8080/"
        },
        "id": "dDlfPPfiQmKT",
        "outputId": "cb46b934-8db5-42ad-b09c-7f01de94b46b"
      },
      "outputs": [
        {
          "name": "stdout",
          "output_type": "stream",
          "text": [
            "Null Values in True News Dataset:\n"
          ]
        },
        {
          "ename": "NameError",
          "evalue": "name 'true_df' is not defined",
          "output_type": "error",
          "traceback": [
            "\u001b[1;31m---------------------------------------------------------------------------\u001b[0m",
            "\u001b[1;31mNameError\u001b[0m                                 Traceback (most recent call last)",
            "Cell \u001b[1;32mIn[17], line 3\u001b[0m\n\u001b[0;32m      1\u001b[0m \u001b[38;5;66;03m# Check for null values\u001b[39;00m\n\u001b[0;32m      2\u001b[0m \u001b[38;5;28mprint\u001b[39m(\u001b[38;5;124m\"\u001b[39m\u001b[38;5;124mNull Values in True News Dataset:\u001b[39m\u001b[38;5;124m\"\u001b[39m)\n\u001b[1;32m----> 3\u001b[0m \u001b[38;5;28mprint\u001b[39m(\u001b[43mtrue_df\u001b[49m\u001b[38;5;241m.\u001b[39misnull()\u001b[38;5;241m.\u001b[39msum())\n\u001b[0;32m      5\u001b[0m \u001b[38;5;28mprint\u001b[39m(\u001b[38;5;124m\"\u001b[39m\u001b[38;5;130;01m\\n\u001b[39;00m\u001b[38;5;124mNull Values in Fake News Dataset:\u001b[39m\u001b[38;5;124m\"\u001b[39m)\n\u001b[0;32m      6\u001b[0m \u001b[38;5;28mprint\u001b[39m(fake_df\u001b[38;5;241m.\u001b[39misnull()\u001b[38;5;241m.\u001b[39msum())\n",
            "\u001b[1;31mNameError\u001b[0m: name 'true_df' is not defined"
          ]
        }
      ],
      "source": [
        "# Check for null values\n",
        "print(\"Null Values in True News Dataset:\")\n",
        "print(true_df.isnull().sum())\n",
        "\n",
        "print(\"\\nNull Values in Fake News Dataset:\")\n",
        "print(fake_df.isnull().sum())"
      ]
    },
    {
      "cell_type": "code",
      "execution_count": 16,
      "metadata": {
        "colab": {
          "base_uri": "https://localhost:8080/"
        },
        "id": "-XgO6HIIQpiD",
        "outputId": "f37f0eb2-6534-4c9a-cebf-2e27ee73bc3c"
      },
      "outputs": [
        {
          "ename": "NameError",
          "evalue": "name 'true_df' is not defined",
          "output_type": "error",
          "traceback": [
            "\u001b[1;31m---------------------------------------------------------------------------\u001b[0m",
            "\u001b[1;31mNameError\u001b[0m                                 Traceback (most recent call last)",
            "Cell \u001b[1;32mIn[16], line 2\u001b[0m\n\u001b[0;32m      1\u001b[0m \u001b[38;5;66;03m# Check for duplicate rows\u001b[39;00m\n\u001b[1;32m----> 2\u001b[0m \u001b[38;5;28mprint\u001b[39m(\u001b[38;5;124m\"\u001b[39m\u001b[38;5;124mDuplicate Rows in True News Dataset:\u001b[39m\u001b[38;5;124m\"\u001b[39m, \u001b[43mtrue_df\u001b[49m\u001b[38;5;241m.\u001b[39mduplicated()\u001b[38;5;241m.\u001b[39msum())\n\u001b[0;32m      3\u001b[0m \u001b[38;5;28mprint\u001b[39m(\u001b[38;5;124m\"\u001b[39m\u001b[38;5;124mDuplicate Rows in Fake News Dataset:\u001b[39m\u001b[38;5;124m\"\u001b[39m, fake_df\u001b[38;5;241m.\u001b[39mduplicated()\u001b[38;5;241m.\u001b[39msum())\n",
            "\u001b[1;31mNameError\u001b[0m: name 'true_df' is not defined"
          ]
        }
      ],
      "source": [
        "# Check for duplicate rows\n",
        "print(\"Duplicate Rows in True News Dataset:\", true_df.duplicated().sum())\n",
        "print(\"Duplicate Rows in Fake News Dataset:\", fake_df.duplicated().sum())"
      ]
    },
    {
      "cell_type": "code",
      "execution_count": 15,
      "metadata": {
        "colab": {
          "base_uri": "https://localhost:8080/"
        },
        "id": "0QXWctn-Qwuj",
        "outputId": "2ad4a907-9a8d-4bda-ac6a-603aedd6b5e3"
      },
      "outputs": [
        {
          "ename": "NameError",
          "evalue": "name 'true_df' is not defined",
          "output_type": "error",
          "traceback": [
            "\u001b[1;31m---------------------------------------------------------------------------\u001b[0m",
            "\u001b[1;31mNameError\u001b[0m                                 Traceback (most recent call last)",
            "Cell \u001b[1;32mIn[15], line 2\u001b[0m\n\u001b[0;32m      1\u001b[0m \u001b[38;5;66;03m# Remove duplicate rows\u001b[39;00m\n\u001b[1;32m----> 2\u001b[0m true_df \u001b[38;5;241m=\u001b[39m \u001b[43mtrue_df\u001b[49m\u001b[38;5;241m.\u001b[39mdrop_duplicates()\n\u001b[0;32m      3\u001b[0m fake_df \u001b[38;5;241m=\u001b[39m fake_df\u001b[38;5;241m.\u001b[39mdrop_duplicates()\n\u001b[0;32m      4\u001b[0m \u001b[38;5;28mprint\u001b[39m(\u001b[38;5;124m\"\u001b[39m\u001b[38;5;130;01m\\n\u001b[39;00m\u001b[38;5;124mDuplicates removed. Remaining rows:\u001b[39m\u001b[38;5;124m\"\u001b[39m)\n",
            "\u001b[1;31mNameError\u001b[0m: name 'true_df' is not defined"
          ]
        }
      ],
      "source": [
        "# Remove duplicate rows\n",
        "true_df = true_df.drop_duplicates()\n",
        "fake_df = fake_df.drop_duplicates()\n",
        "print(\"\\nDuplicates removed. Remaining rows:\")\n",
        "print(\"True News:\", len(true_df))\n",
        "print(\"Fake News:\", len(fake_df))"
      ]
    },
    {
      "cell_type": "code",
      "execution_count": 14,
      "metadata": {
        "colab": {
          "base_uri": "https://localhost:8080/",
          "height": 545
        },
        "id": "eq64nC99p9Qw",
        "outputId": "b4dbda83-ca45-4918-aa47-ba2fcfb598a9"
      },
      "outputs": [
        {
          "ename": "NameError",
          "evalue": "name 'true_df' is not defined",
          "output_type": "error",
          "traceback": [
            "\u001b[1;31m---------------------------------------------------------------------------\u001b[0m",
            "\u001b[1;31mNameError\u001b[0m                                 Traceback (most recent call last)",
            "Cell \u001b[1;32mIn[14], line 2\u001b[0m\n\u001b[0;32m      1\u001b[0m \u001b[38;5;66;03m# Function to calculate article lengths\u001b[39;00m\n\u001b[1;32m----> 2\u001b[0m true_df[\u001b[38;5;124m'\u001b[39m\u001b[38;5;124marticle_length\u001b[39m\u001b[38;5;124m'\u001b[39m] \u001b[38;5;241m=\u001b[39m \u001b[43mtrue_df\u001b[49m[\u001b[38;5;124m'\u001b[39m\u001b[38;5;124mtext\u001b[39m\u001b[38;5;124m'\u001b[39m]\u001b[38;5;241m.\u001b[39mapply(\u001b[38;5;28;01mlambda\u001b[39;00m x: \u001b[38;5;28mlen\u001b[39m(x\u001b[38;5;241m.\u001b[39msplit()))\n\u001b[0;32m      3\u001b[0m fake_df[\u001b[38;5;124m'\u001b[39m\u001b[38;5;124marticle_length\u001b[39m\u001b[38;5;124m'\u001b[39m] \u001b[38;5;241m=\u001b[39m fake_df[\u001b[38;5;124m'\u001b[39m\u001b[38;5;124mtext\u001b[39m\u001b[38;5;124m'\u001b[39m]\u001b[38;5;241m.\u001b[39mapply(\u001b[38;5;28;01mlambda\u001b[39;00m x: \u001b[38;5;28mlen\u001b[39m(x\u001b[38;5;241m.\u001b[39msplit()))\n\u001b[0;32m      5\u001b[0m \u001b[38;5;66;03m# Box plot for article lengths\u001b[39;00m\n",
            "\u001b[1;31mNameError\u001b[0m: name 'true_df' is not defined"
          ]
        }
      ],
      "source": [
        "# Function to calculate article lengths\n",
        "true_df['article_length'] = true_df['text'].apply(lambda x: len(x.split()))\n",
        "fake_df['article_length'] = fake_df['text'].apply(lambda x: len(x.split()))\n",
        "\n",
        "# Box plot for article lengths\n",
        "plt.figure(figsize=(12, 6))\n",
        "plt.boxplot([true_df['article_length'], fake_df['article_length']], labels=['True News', 'Fake News'])\n",
        "plt.title('Box Plot of Article Lengths')\n",
        "plt.ylabel('Word Count')\n",
        "plt.show()"
      ]
    },
    {
      "cell_type": "code",
      "execution_count": 13,
      "metadata": {
        "colab": {
          "base_uri": "https://localhost:8080/"
        },
        "id": "EhPMWnaCQ5A8",
        "outputId": "742f57b9-bea5-4aa1-b267-3d9ebddc9af3"
      },
      "outputs": [
        {
          "ename": "NameError",
          "evalue": "name 'true_df' is not defined",
          "output_type": "error",
          "traceback": [
            "\u001b[1;31m---------------------------------------------------------------------------\u001b[0m",
            "\u001b[1;31mNameError\u001b[0m                                 Traceback (most recent call last)",
            "Cell \u001b[1;32mIn[13], line 11\u001b[0m\n\u001b[0;32m      8\u001b[0m     \u001b[38;5;28;01mreturn\u001b[39;00m df[(df[column] \u001b[38;5;241m>\u001b[39m\u001b[38;5;241m=\u001b[39m lower_bound) \u001b[38;5;241m&\u001b[39m (df[column] \u001b[38;5;241m<\u001b[39m\u001b[38;5;241m=\u001b[39m upper_bound)]\n\u001b[0;32m     10\u001b[0m \u001b[38;5;66;03m# Apply to datasets\u001b[39;00m\n\u001b[1;32m---> 11\u001b[0m true_df \u001b[38;5;241m=\u001b[39m remove_outliers(\u001b[43mtrue_df\u001b[49m, \u001b[38;5;124m'\u001b[39m\u001b[38;5;124marticle_length\u001b[39m\u001b[38;5;124m'\u001b[39m)\n\u001b[0;32m     12\u001b[0m fake_df \u001b[38;5;241m=\u001b[39m remove_outliers(fake_df, \u001b[38;5;124m'\u001b[39m\u001b[38;5;124marticle_length\u001b[39m\u001b[38;5;124m'\u001b[39m)\n\u001b[0;32m     14\u001b[0m \u001b[38;5;28mprint\u001b[39m(\u001b[38;5;124m\"\u001b[39m\u001b[38;5;124mAfter Outlier Removal:\u001b[39m\u001b[38;5;124m\"\u001b[39m)\n",
            "\u001b[1;31mNameError\u001b[0m: name 'true_df' is not defined"
          ]
        }
      ],
      "source": [
        "# Remove outliers using the IQR method\n",
        "def remove_outliers(df, column):\n",
        "    Q1 = df[column].quantile(0.25)\n",
        "    Q3 = df[column].quantile(0.75)\n",
        "    IQR = Q3 - Q1\n",
        "    lower_bound = Q1 - 1.5 * IQR\n",
        "    upper_bound = Q3 + 1.5 * IQR\n",
        "    return df[(df[column] >= lower_bound) & (df[column] <= upper_bound)]\n",
        "\n",
        "# Apply to datasets\n",
        "true_df = remove_outliers(true_df, 'article_length')\n",
        "fake_df = remove_outliers(fake_df, 'article_length')\n",
        "\n",
        "print(\"After Outlier Removal:\")\n",
        "print(\"True News:\", len(true_df))\n",
        "print(\"Fake News:\", len(fake_df))"
      ]
    },
    {
      "cell_type": "code",
      "execution_count": 12,
      "metadata": {
        "id": "NupcyJpYQ6xS"
      },
      "outputs": [
        {
          "ename": "NameError",
          "evalue": "name 'true_df' is not defined",
          "output_type": "error",
          "traceback": [
            "\u001b[1;31m---------------------------------------------------------------------------\u001b[0m",
            "\u001b[1;31mNameError\u001b[0m                                 Traceback (most recent call last)",
            "Cell \u001b[1;32mIn[12], line 2\u001b[0m\n\u001b[0;32m      1\u001b[0m \u001b[38;5;66;03m# Combine both datasets and create a label column\u001b[39;00m\n\u001b[1;32m----> 2\u001b[0m \u001b[43mtrue_df\u001b[49m[\u001b[38;5;124m'\u001b[39m\u001b[38;5;124mlabel\u001b[39m\u001b[38;5;124m'\u001b[39m] \u001b[38;5;241m=\u001b[39m \u001b[38;5;241m1\u001b[39m  \u001b[38;5;66;03m# Real news\u001b[39;00m\n\u001b[0;32m      3\u001b[0m fake_df[\u001b[38;5;124m'\u001b[39m\u001b[38;5;124mlabel\u001b[39m\u001b[38;5;124m'\u001b[39m] \u001b[38;5;241m=\u001b[39m \u001b[38;5;241m0\u001b[39m  \u001b[38;5;66;03m# Fake news\u001b[39;00m\n\u001b[0;32m      4\u001b[0m \u001b[38;5;66;03m# Concatenate both datasets\u001b[39;00m\n",
            "\u001b[1;31mNameError\u001b[0m: name 'true_df' is not defined"
          ]
        }
      ],
      "source": [
        "# Combine both datasets and create a label column\n",
        "true_df['label'] = 1  # Real news\n",
        "fake_df['label'] = 0  # Fake news\n",
        "# Concatenate both datasets\n",
        "df = pd.concat([true_df, fake_df], ignore_index=True)"
      ]
    },
    {
      "cell_type": "code",
      "execution_count": 11,
      "metadata": {
        "colab": {
          "base_uri": "https://localhost:8080/",
          "height": 564
        },
        "id": "tiIPgVyeUufL",
        "outputId": "5a354f96-bc36-4171-b453-bfbf8e0136ff"
      },
      "outputs": [
        {
          "ename": "NameError",
          "evalue": "name 'plt' is not defined",
          "output_type": "error",
          "traceback": [
            "\u001b[1;31m---------------------------------------------------------------------------\u001b[0m",
            "\u001b[1;31mNameError\u001b[0m                                 Traceback (most recent call last)",
            "Cell \u001b[1;32mIn[11], line 2\u001b[0m\n\u001b[0;32m      1\u001b[0m \u001b[38;5;66;03m# Plot distribution with count labels on bars\u001b[39;00m\n\u001b[1;32m----> 2\u001b[0m \u001b[43mplt\u001b[49m\u001b[38;5;241m.\u001b[39mfigure(figsize\u001b[38;5;241m=\u001b[39m(\u001b[38;5;241m8\u001b[39m, \u001b[38;5;241m6\u001b[39m))\n\u001b[0;32m      3\u001b[0m ax \u001b[38;5;241m=\u001b[39m sns\u001b[38;5;241m.\u001b[39mcountplot(x\u001b[38;5;241m=\u001b[39m\u001b[38;5;124m'\u001b[39m\u001b[38;5;124mlabel\u001b[39m\u001b[38;5;124m'\u001b[39m, data\u001b[38;5;241m=\u001b[39mdf, palette\u001b[38;5;241m=\u001b[39m\u001b[38;5;124m'\u001b[39m\u001b[38;5;124mSet2\u001b[39m\u001b[38;5;124m'\u001b[39m)\n\u001b[0;32m      5\u001b[0m \u001b[38;5;66;03m# Adding counts on top of the bars\u001b[39;00m\n",
            "\u001b[1;31mNameError\u001b[0m: name 'plt' is not defined"
          ]
        }
      ],
      "source": [
        "# Plot distribution with count labels on bars\n",
        "plt.figure(figsize=(8, 6))\n",
        "ax = sns.countplot(x='label', data=df, palette='Set2')\n",
        "\n",
        "# Adding counts on top of the bars\n",
        "for p in ax.patches:\n",
        "    ax.annotate(f'{p.get_height()}',\n",
        "                (p.get_x() + p.get_width() / 2., p.get_height()),\n",
        "                ha='center', va='center',\n",
        "                fontsize=12, color='black',\n",
        "                xytext=(0, 5), textcoords='offset points')\n",
        "\n",
        "# Set title and labels\n",
        "plt.title('Distribution of Real vs Fake News')\n",
        "plt.xlabel('News Type')\n",
        "plt.ylabel('Count')\n",
        "plt.xticks(ticks=[0, 1], labels=['Fake News', 'Real News'])\n",
        "\n",
        "# Display the plot\n",
        "plt.show()"
      ]
    },
    {
      "cell_type": "code",
      "execution_count": 10,
      "metadata": {
        "colab": {
          "base_uri": "https://localhost:8080/",
          "height": 446
        },
        "id": "uwb1DzaZRMzr",
        "outputId": "ce072170-1aed-416d-9520-19f8c6a66669"
      },
      "outputs": [
        {
          "ename": "ModuleNotFoundError",
          "evalue": "No module named 'wordcloud'",
          "output_type": "error",
          "traceback": [
            "\u001b[1;31m---------------------------------------------------------------------------\u001b[0m",
            "\u001b[1;31mModuleNotFoundError\u001b[0m                       Traceback (most recent call last)",
            "Cell \u001b[1;32mIn[10], line 1\u001b[0m\n\u001b[1;32m----> 1\u001b[0m \u001b[38;5;28;01mfrom\u001b[39;00m \u001b[38;5;21;01mwordcloud\u001b[39;00m \u001b[38;5;28;01mimport\u001b[39;00m WordCloud\n\u001b[0;32m      3\u001b[0m \u001b[38;5;66;03m# Combine both datasets' text for word cloud generation\u001b[39;00m\n\u001b[0;32m      4\u001b[0m text_data \u001b[38;5;241m=\u001b[39m \u001b[38;5;124m'\u001b[39m\u001b[38;5;124m \u001b[39m\u001b[38;5;124m'\u001b[39m\u001b[38;5;241m.\u001b[39mjoin(df[\u001b[38;5;124m'\u001b[39m\u001b[38;5;124mtext\u001b[39m\u001b[38;5;124m'\u001b[39m]\u001b[38;5;241m.\u001b[39mastype(\u001b[38;5;28mstr\u001b[39m))\n",
            "\u001b[1;31mModuleNotFoundError\u001b[0m: No module named 'wordcloud'"
          ]
        }
      ],
      "source": [
        "from wordcloud import WordCloud\n",
        "\n",
        "# Combine both datasets' text for word cloud generation\n",
        "text_data = ' '.join(df['text'].astype(str))\n",
        "\n",
        "# Generate word cloud\n",
        "wordcloud = WordCloud(width=800, height=400, background_color='white', colormap='coolwarm').generate(text_data)\n",
        "\n",
        "# Display the word cloud\n",
        "plt.figure(figsize=(10, 6))\n",
        "plt.imshow(wordcloud, interpolation='bilinear')\n",
        "plt.axis('off')\n",
        "plt.title('Word Frequency Analysis')\n",
        "plt.show()\n"
      ]
    },
    {
      "cell_type": "code",
      "execution_count": 9,
      "metadata": {
        "colab": {
          "base_uri": "https://localhost:8080/",
          "height": 564
        },
        "id": "qbFMlIFpRe0L",
        "outputId": "15e2d2f6-6f15-468a-9cb0-cc36544e9810"
      },
      "outputs": [
        {
          "ename": "NameError",
          "evalue": "name 'true_df' is not defined",
          "output_type": "error",
          "traceback": [
            "\u001b[1;31m---------------------------------------------------------------------------\u001b[0m",
            "\u001b[1;31mNameError\u001b[0m                                 Traceback (most recent call last)",
            "Cell \u001b[1;32mIn[9], line 2\u001b[0m\n\u001b[0;32m      1\u001b[0m \u001b[38;5;66;03m# Calculate article length (word count) for both datasets\u001b[39;00m\n\u001b[1;32m----> 2\u001b[0m true_df[\u001b[38;5;124m'\u001b[39m\u001b[38;5;124marticle_length\u001b[39m\u001b[38;5;124m'\u001b[39m] \u001b[38;5;241m=\u001b[39m \u001b[43mtrue_df\u001b[49m[\u001b[38;5;124m'\u001b[39m\u001b[38;5;124mtext\u001b[39m\u001b[38;5;124m'\u001b[39m]\u001b[38;5;241m.\u001b[39mapply(\u001b[38;5;28;01mlambda\u001b[39;00m x: \u001b[38;5;28mlen\u001b[39m(x\u001b[38;5;241m.\u001b[39msplit()))\n\u001b[0;32m      3\u001b[0m fake_df[\u001b[38;5;124m'\u001b[39m\u001b[38;5;124marticle_length\u001b[39m\u001b[38;5;124m'\u001b[39m] \u001b[38;5;241m=\u001b[39m fake_df[\u001b[38;5;124m'\u001b[39m\u001b[38;5;124mtext\u001b[39m\u001b[38;5;124m'\u001b[39m]\u001b[38;5;241m.\u001b[39mapply(\u001b[38;5;28;01mlambda\u001b[39;00m x: \u001b[38;5;28mlen\u001b[39m(x\u001b[38;5;241m.\u001b[39msplit()))\n\u001b[0;32m      5\u001b[0m \u001b[38;5;66;03m# Plot article length distribution\u001b[39;00m\n",
            "\u001b[1;31mNameError\u001b[0m: name 'true_df' is not defined"
          ]
        }
      ],
      "source": [
        "# Calculate article length (word count) for both datasets\n",
        "true_df['article_length'] = true_df['text'].apply(lambda x: len(x.split()))\n",
        "fake_df['article_length'] = fake_df['text'].apply(lambda x: len(x.split()))\n",
        "\n",
        "# Plot article length distribution\n",
        "plt.figure(figsize=(10, 6))\n",
        "sns.histplot(true_df['article_length'], kde=True, color='blue', label='Real News', stat='density', bins=30)\n",
        "sns.histplot(fake_df['article_length'], kde=True, color='red', label='Fake News', stat='density', bins=30)\n",
        "plt.title('Article Length Distribution for Real vs Fake News')\n",
        "plt.xlabel('Article Length (Word Count)')\n",
        "plt.ylabel('Density')\n",
        "plt.legend()\n",
        "plt.show()\n"
      ]
    },
    {
      "cell_type": "code",
      "execution_count": 8,
      "metadata": {
        "colab": {
          "base_uri": "https://localhost:8080/",
          "height": 675
        },
        "id": "7gPB4gWBT1OT",
        "outputId": "a7e2147f-24c9-41c6-bece-bce2122023cb"
      },
      "outputs": [
        {
          "ename": "NameError",
          "evalue": "name 'df' is not defined",
          "output_type": "error",
          "traceback": [
            "\u001b[1;31m---------------------------------------------------------------------------\u001b[0m",
            "\u001b[1;31mNameError\u001b[0m                                 Traceback (most recent call last)",
            "Cell \u001b[1;32mIn[8], line 2\u001b[0m\n\u001b[0;32m      1\u001b[0m \u001b[38;5;66;03m# Top 3 categories based on article count\u001b[39;00m\n\u001b[1;32m----> 2\u001b[0m top_categories \u001b[38;5;241m=\u001b[39m \u001b[43mdf\u001b[49m[\u001b[38;5;124m'\u001b[39m\u001b[38;5;124msubject\u001b[39m\u001b[38;5;124m'\u001b[39m]\u001b[38;5;241m.\u001b[39mvalue_counts()\u001b[38;5;241m.\u001b[39mhead(\u001b[38;5;241m3\u001b[39m)\n\u001b[0;32m      4\u001b[0m \u001b[38;5;66;03m# Plot pie chart\u001b[39;00m\n\u001b[0;32m      5\u001b[0m plt\u001b[38;5;241m.\u001b[39mfigure(figsize\u001b[38;5;241m=\u001b[39m(\u001b[38;5;241m8\u001b[39m, \u001b[38;5;241m8\u001b[39m))\n",
            "\u001b[1;31mNameError\u001b[0m: name 'df' is not defined"
          ]
        }
      ],
      "source": [
        "# Top 3 categories based on article count\n",
        "top_categories = df['subject'].value_counts().head(3)\n",
        "\n",
        "# Plot pie chart\n",
        "plt.figure(figsize=(8, 8))\n",
        "top_categories.plot.pie(autopct='%1.1f%%', colors=sns.color_palette(\"Set2\", len(top_categories)), startangle=90, wedgeprops={'edgecolor': 'black'})\n",
        "plt.title('Top 3 Categories in News')\n",
        "plt.ylabel('')\n",
        "plt.show()\n"
      ]
    },
    {
      "cell_type": "code",
      "execution_count": 7,
      "metadata": {
        "colab": {
          "base_uri": "https://localhost:8080/",
          "height": 651
        },
        "id": "tcGLY0vYWDS7",
        "outputId": "f96ff249-dfe2-4843-a61b-5ecb4ce0b564"
      },
      "outputs": [
        {
          "ename": "NameError",
          "evalue": "name 'plt' is not defined",
          "output_type": "error",
          "traceback": [
            "\u001b[1;31m---------------------------------------------------------------------------\u001b[0m",
            "\u001b[1;31mNameError\u001b[0m                                 Traceback (most recent call last)",
            "Cell \u001b[1;32mIn[7], line 1\u001b[0m\n\u001b[1;32m----> 1\u001b[0m \u001b[43mplt\u001b[49m\u001b[38;5;241m.\u001b[39mfigure(figsize\u001b[38;5;241m=\u001b[39m(\u001b[38;5;241m12\u001b[39m, \u001b[38;5;241m6\u001b[39m))\n\u001b[0;32m      2\u001b[0m ax \u001b[38;5;241m=\u001b[39m sns\u001b[38;5;241m.\u001b[39mcountplot(x\u001b[38;5;241m=\u001b[39m\u001b[38;5;124m'\u001b[39m\u001b[38;5;124msubject\u001b[39m\u001b[38;5;124m'\u001b[39m, hue\u001b[38;5;241m=\u001b[39m\u001b[38;5;124m'\u001b[39m\u001b[38;5;124mlabel\u001b[39m\u001b[38;5;124m'\u001b[39m, data\u001b[38;5;241m=\u001b[39mdf, palette\u001b[38;5;241m=\u001b[39m\u001b[38;5;124m'\u001b[39m\u001b[38;5;124mSet2\u001b[39m\u001b[38;5;124m'\u001b[39m)\n\u001b[0;32m      3\u001b[0m plt\u001b[38;5;241m.\u001b[39mtitle(\u001b[38;5;124m'\u001b[39m\u001b[38;5;124mTopic Distribution in Real vs Fake News\u001b[39m\u001b[38;5;124m'\u001b[39m)\n",
            "\u001b[1;31mNameError\u001b[0m: name 'plt' is not defined"
          ]
        }
      ],
      "source": [
        "plt.figure(figsize=(12, 6))\n",
        "ax = sns.countplot(x='subject', hue='label', data=df, palette='Set2')\n",
        "plt.title('Topic Distribution in Real vs Fake News')\n",
        "plt.xlabel('Topic')\n",
        "plt.ylabel('Count')\n",
        "plt.xticks(rotation=45)\n",
        "\n",
        "# Add count on bars\n",
        "for p in ax.patches:\n",
        "    ax.annotate(f'{p.get_height()}',\n",
        "                (p.get_x() + p.get_width() / 2., p.get_height()),\n",
        "                ha='center', va='center',\n",
        "                fontsize=12, color='black',\n",
        "                xytext=(0, 5), textcoords='offset points')\n",
        "\n",
        "# Update the legend\n",
        "handles, labels = ax.get_legend_handles_labels()\n",
        "labels = ['Real News', 'Fake News']  # Change labels to represent real and fake news\n",
        "ax.legend(handles, labels, title='News Type')\n",
        "\n",
        "plt.show()\n"
      ]
    },
    {
      "cell_type": "markdown",
      "metadata": {
        "id": "Yz83F3-KaPDi"
      },
      "source": [
        "# **Feature Engineering**"
      ]
    },
    {
      "cell_type": "code",
      "execution_count": 6,
      "metadata": {
        "id": "b1qQpUd7aVNi"
      },
      "outputs": [
        {
          "ename": "NameError",
          "evalue": "name 'df' is not defined",
          "output_type": "error",
          "traceback": [
            "\u001b[1;31m---------------------------------------------------------------------------\u001b[0m",
            "\u001b[1;31mNameError\u001b[0m                                 Traceback (most recent call last)",
            "Cell \u001b[1;32mIn[6], line 2\u001b[0m\n\u001b[0;32m      1\u001b[0m \u001b[38;5;66;03m# Split data into features and target\u001b[39;00m\n\u001b[1;32m----> 2\u001b[0m X \u001b[38;5;241m=\u001b[39m \u001b[43mdf\u001b[49m[\u001b[38;5;124m'\u001b[39m\u001b[38;5;124mtext\u001b[39m\u001b[38;5;124m'\u001b[39m]\n\u001b[0;32m      3\u001b[0m y \u001b[38;5;241m=\u001b[39m df[\u001b[38;5;124m'\u001b[39m\u001b[38;5;124mlabel\u001b[39m\u001b[38;5;124m'\u001b[39m]\n\u001b[0;32m      4\u001b[0m \u001b[38;5;66;03m# Convert text data into numerical format using TF-IDF\u001b[39;00m\n",
            "\u001b[1;31mNameError\u001b[0m: name 'df' is not defined"
          ]
        }
      ],
      "source": [
        "# Split data into features and target\n",
        "X = df['text']\n",
        "y = df['label']\n",
        "# Convert text data into numerical format using TF-IDF\n",
        "vectorizer = TfidfVectorizer(stop_words='english', max_features=5000)\n",
        "X_tfidf = vectorizer.fit_transform(X)"
      ]
    },
    {
      "cell_type": "markdown",
      "metadata": {
        "id": "rxFkAoCiaXur"
      },
      "source": [
        "# **Train-test split**"
      ]
    },
    {
      "cell_type": "code",
      "execution_count": 5,
      "metadata": {
        "id": "yQaD_yR7Xj3z"
      },
      "outputs": [
        {
          "ename": "NameError",
          "evalue": "name 'train_test_split' is not defined",
          "output_type": "error",
          "traceback": [
            "\u001b[1;31m---------------------------------------------------------------------------\u001b[0m",
            "\u001b[1;31mNameError\u001b[0m                                 Traceback (most recent call last)",
            "Cell \u001b[1;32mIn[5], line 2\u001b[0m\n\u001b[0;32m      1\u001b[0m \u001b[38;5;66;03m# Train-test split\u001b[39;00m\n\u001b[1;32m----> 2\u001b[0m X_train, X_test, y_train, y_test \u001b[38;5;241m=\u001b[39m \u001b[43mtrain_test_split\u001b[49m(X_tfidf, y, test_size\u001b[38;5;241m=\u001b[39m\u001b[38;5;241m0.2\u001b[39m, random_state\u001b[38;5;241m=\u001b[39m\u001b[38;5;241m42\u001b[39m)\n",
            "\u001b[1;31mNameError\u001b[0m: name 'train_test_split' is not defined"
          ]
        }
      ],
      "source": [
        "# Train-test split\n",
        "X_train, X_test, y_train, y_test = train_test_split(X_tfidf, y, test_size=0.2, random_state=42)"
      ]
    },
    {
      "cell_type": "markdown",
      "metadata": {
        "id": "jsdpRTeTabrr"
      },
      "source": [
        "## **Logistic Regression Model**"
      ]
    },
    {
      "cell_type": "code",
      "execution_count": 4,
      "metadata": {
        "colab": {
          "base_uri": "https://localhost:8080/"
        },
        "id": "xIeH7w5PaaO6",
        "outputId": "c81b8a24-dd3d-42b3-e87a-e9fa2d82c500"
      },
      "outputs": [
        {
          "ename": "NameError",
          "evalue": "name 'LogisticRegression' is not defined",
          "output_type": "error",
          "traceback": [
            "\u001b[1;31m---------------------------------------------------------------------------\u001b[0m",
            "\u001b[1;31mNameError\u001b[0m                                 Traceback (most recent call last)",
            "Cell \u001b[1;32mIn[4], line 2\u001b[0m\n\u001b[0;32m      1\u001b[0m \u001b[38;5;66;03m# Logistic Regression Model\u001b[39;00m\n\u001b[1;32m----> 2\u001b[0m lr_model \u001b[38;5;241m=\u001b[39m \u001b[43mLogisticRegression\u001b[49m(max_iter\u001b[38;5;241m=\u001b[39m\u001b[38;5;241m1000\u001b[39m)\n\u001b[0;32m      3\u001b[0m lr_model\u001b[38;5;241m.\u001b[39mfit(X_train, y_train)\n\u001b[0;32m      5\u001b[0m \u001b[38;5;66;03m# Predictions\u001b[39;00m\n",
            "\u001b[1;31mNameError\u001b[0m: name 'LogisticRegression' is not defined"
          ]
        }
      ],
      "source": [
        "# Logistic Regression Model\n",
        "lr_model = LogisticRegression(max_iter=1000)\n",
        "lr_model.fit(X_train, y_train)\n",
        "\n",
        "# Predictions\n",
        "y_pred = lr_model.predict(X_test)\n",
        "\n",
        "# Evaluation\n",
        "print(\"Logistic Regression Results:\")\n",
        "print(classification_report(y_test, y_pred))"
      ]
    },
    {
      "cell_type": "markdown",
      "metadata": {
        "id": "KkczqlWpa7H6"
      },
      "source": [
        "# **Random Forest Model**"
      ]
    },
    {
      "cell_type": "code",
      "execution_count": 3,
      "metadata": {
        "colab": {
          "base_uri": "https://localhost:8080/"
        },
        "id": "zj1fvUZuXj1C",
        "outputId": "6162f975-4604-441c-faa5-fd10cc485891"
      },
      "outputs": [
        {
          "ename": "NameError",
          "evalue": "name 'RandomForestClassifier' is not defined",
          "output_type": "error",
          "traceback": [
            "\u001b[1;31m---------------------------------------------------------------------------\u001b[0m",
            "\u001b[1;31mNameError\u001b[0m                                 Traceback (most recent call last)",
            "Cell \u001b[1;32mIn[3], line 2\u001b[0m\n\u001b[0;32m      1\u001b[0m \u001b[38;5;66;03m# Random Forest Model\u001b[39;00m\n\u001b[1;32m----> 2\u001b[0m rf_model \u001b[38;5;241m=\u001b[39m \u001b[43mRandomForestClassifier\u001b[49m(n_estimators\u001b[38;5;241m=\u001b[39m\u001b[38;5;241m100\u001b[39m, random_state\u001b[38;5;241m=\u001b[39m\u001b[38;5;241m42\u001b[39m)\n\u001b[0;32m      3\u001b[0m rf_model\u001b[38;5;241m.\u001b[39mfit(X_train, y_train)\n\u001b[0;32m      4\u001b[0m \u001b[38;5;66;03m# Predictions\u001b[39;00m\n",
            "\u001b[1;31mNameError\u001b[0m: name 'RandomForestClassifier' is not defined"
          ]
        }
      ],
      "source": [
        "# Random Forest Model\n",
        "rf_model = RandomForestClassifier(n_estimators=100, random_state=42)\n",
        "rf_model.fit(X_train, y_train)\n",
        "# Predictions\n",
        "y_pred_rf = rf_model.predict(X_test)\n",
        "# Evaluation\n",
        "print(\"Random Forest Results:\")\n",
        "print(classification_report(y_test, y_pred_rf))"
      ]
    },
    {
      "cell_type": "code",
      "execution_count": null,
      "metadata": {
        "colab": {
          "base_uri": "https://localhost:8080/",
          "height": 807
        },
        "id": "8vsRkfa-Xjhi",
        "outputId": "171f89b7-5612-4a8c-e257-71a3dc92d1bd"
      },
      "outputs": [],
      "source": [
        "# Plot confusion matrix for both models in a single plot\n",
        "fig, ax = plt.subplots(1, 2, figsize=(15, 8))\n",
        "\n",
        "# Confusion matrix for Logistic Regression\n",
        "cm = confusion_matrix(y_test, y_pred)\n",
        "sns.heatmap(cm, annot=True, fmt='d', cmap='Blues', xticklabels=['Fake News', 'Real News'], yticklabels=['Fake News', 'Real News'], ax=ax[0])\n",
        "ax[0].set_title('Confusion Matrix - Logistic Regression')\n",
        "ax[0].set_xlabel('Predicted')\n",
        "ax[0].set_ylabel('Actual')\n",
        "\n",
        "# Confusion matrix for Random Forest\n",
        "cm_rf = confusion_matrix(y_test, y_pred_rf)\n",
        "sns.heatmap(cm_rf, annot=True, fmt='d', cmap='Blues', xticklabels=['Fake News', 'Real News'], yticklabels=['Fake News', 'Real News'], ax=ax[1])\n",
        "ax[1].set_title('Confusion Matrix - Random Forest')\n",
        "ax[1].set_xlabel('Predicted')\n",
        "ax[1].set_ylabel('Actual')\n",
        "\n",
        "plt.tight_layout()\n",
        "plt.show()"
      ]
    },
    {
      "cell_type": "code",
      "execution_count": null,
      "metadata": {
        "colab": {
          "base_uri": "https://localhost:8080/",
          "height": 607
        },
        "id": "fSlbiBfIbnCp",
        "outputId": "a215aa1a-e9a8-406b-aa1d-4f3c98a5e5cf"
      },
      "outputs": [],
      "source": [
        "# Get classification reports for both models\n",
        "lr_report = classification_report(y_test, y_pred, output_dict=True)\n",
        "rf_report = classification_report(y_test, y_pred_rf, output_dict=True)\n",
        "\n",
        "# Extract the necessary metrics for comparison\n",
        "metrics = ['precision', 'recall', 'f1-score']\n",
        "lr_values = [lr_report['1'][metric] for metric in metrics]\n",
        "rf_values = [rf_report['1'][metric] for metric in metrics]\n",
        "\n",
        "# Create a bar plot for comparison\n",
        "x = np.arange(len(metrics))  # the label locations\n",
        "width = 0.35  # the width of the bars\n",
        "\n",
        "fig, ax = plt.subplots(figsize=(10, 6))\n",
        "rects1 = ax.bar(x - width/2, lr_values, width, label='Logistic Regression', color='skyblue')\n",
        "rects2 = ax.bar(x + width/2, rf_values, width, label='Random Forest', color='salmon')\n",
        "\n",
        "# Add some text for labels, title and custom x-axis tick labels\n",
        "ax.set_ylabel('Scores')\n",
        "ax.set_title('Comparison of Supervised Models (Logistic Regression vs Random Forest)')\n",
        "ax.set_xticks(x)\n",
        "ax.set_xticklabels(metrics)\n",
        "ax.legend()\n",
        "# Move the legend to the bottom right\n",
        "ax.legend(loc='lower right', bbox_to_anchor=(1, 0))\n",
        "# Add values on top of the bars\n",
        "def add_values(rects):\n",
        "    for rect in rects:\n",
        "        height = rect.get_height()\n",
        "        ax.annotate(f'{height:.2f}',\n",
        "                    xy=(rect.get_x() + rect.get_width() / 2, height),\n",
        "                    xytext=(0, 3),  # 3 points vertical offset\n",
        "                    textcoords=\"offset points\",\n",
        "                    ha='center', va='bottom')\n",
        "\n",
        "add_values(rects1)\n",
        "add_values(rects2)\n",
        "\n",
        "# Show the plot\n",
        "plt.tight_layout()\n",
        "plt.show()\n"
      ]
    },
    {
      "cell_type": "code",
      "execution_count": 20,
      "metadata": {
        "colab": {
          "base_uri": "https://localhost:8080/",
          "height": 564
        },
        "id": "r4CwDjUyjsaB",
        "outputId": "8aee45d3-9666-48d2-f1a3-67882d36c2f5"
      },
      "outputs": [
        {
          "ename": "NameError",
          "evalue": "name 'KMeans' is not defined",
          "output_type": "error",
          "traceback": [
            "\u001b[1;31m---------------------------------------------------------------------------\u001b[0m",
            "\u001b[1;31mNameError\u001b[0m                                 Traceback (most recent call last)",
            "Cell \u001b[1;32mIn[20], line 2\u001b[0m\n\u001b[0;32m      1\u001b[0m \u001b[38;5;66;03m# Perform K-Means Clustering\u001b[39;00m\n\u001b[1;32m----> 2\u001b[0m kmeans \u001b[38;5;241m=\u001b[39m \u001b[43mKMeans\u001b[49m(n_clusters\u001b[38;5;241m=\u001b[39m\u001b[38;5;241m2\u001b[39m, random_state\u001b[38;5;241m=\u001b[39m\u001b[38;5;241m42\u001b[39m)\n\u001b[0;32m      3\u001b[0m kmeans\u001b[38;5;241m.\u001b[39mfit(X_tfidf)\n\u001b[0;32m      4\u001b[0m kmeans_labels \u001b[38;5;241m=\u001b[39m kmeans\u001b[38;5;241m.\u001b[39mlabels_\n",
            "\u001b[1;31mNameError\u001b[0m: name 'KMeans' is not defined"
          ]
        }
      ],
      "source": [
        "# Perform K-Means Clustering\n",
        "kmeans = KMeans(n_clusters=2, random_state=42)\n",
        "kmeans.fit(X_tfidf)\n",
        "kmeans_labels = kmeans.labels_\n",
        "\n",
        "# Plot K-Means Clustering\n",
        "plt.figure(figsize=(12, 6))\n",
        "sns.scatterplot(x=X_tfidf[:, 0].toarray().flatten(), y=X_tfidf[:, 1].toarray().flatten(), hue=kmeans_labels, palette='coolwarm', s=50)\n",
        "\n",
        "# Set plot t\n",
        "plt.title('K-Means Clustering of Articles')\n",
        "plt.xlabel('Feature 1')\n",
        "plt.ylabel('Feature 2')\n",
        "handles, labels = plt.gca().get_legend_handles_labels()\n",
        "labels = ['Real News', 'Fake News']\n",
        "plt.legend(handles, labels, title='News Type')\n",
        "# Display the plot\n",
        "plt.show()\n"
      ]
    }
  ],
  "metadata": {
    "colab": {
      "provenance": []
    },
    "kernelspec": {
      "display_name": "Python 3",
      "name": "python3"
    },
    "language_info": {
      "codemirror_mode": {
        "name": "ipython",
        "version": 3
      },
      "file_extension": ".py",
      "mimetype": "text/x-python",
      "name": "python",
      "nbconvert_exporter": "python",
      "pygments_lexer": "ipython3",
      "version": "3.11.2"
    }
  },
  "nbformat": 4,
  "nbformat_minor": 0
}
